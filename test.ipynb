{
 "cells": [
  {
   "cell_type": "code",
   "execution_count": 1,
   "id": "7d697d44-5869-4fe3-abdd-d969d0e006e3",
   "metadata": {},
   "outputs": [],
   "source": [
    "import montecarlo\n",
    "import random"
   ]
  },
  {
   "cell_type": "code",
   "execution_count": 2,
   "id": "fcf14cf4-603f-4d06-9d63-93f67d294c82",
   "metadata": {},
   "outputs": [],
   "source": [
    "ham = montecarlo.Hamiltonian()\n",
    "ham.initialize(-2,1.1,True)"
   ]
  },
  {
   "cell_type": "code",
   "execution_count": 3,
   "id": "49a4dc9f-d450-4e06-83df-99e123fd961d",
   "metadata": {},
   "outputs": [
    {
     "name": "stdout",
     "output_type": "stream",
     "text": [
      "before sweep 0, 1, 1, 1, 0, 1, 1, 1.\n",
      "E before sweep 4.4\n",
      "#######\n",
      "#######\n",
      "after sweep 0, 0, 0, 1, 0, 0, 0, 1.\n",
      "E after sweep -4.4\n"
     ]
    }
   ],
   "source": [
    "spins = montecarlo.SpinConfiguration()\n",
    "spins.randomize(8)\n",
    "\n",
    "\n",
    "\n",
    "print(\"before sweep\",spins)\n",
    "print(\"E before sweep\", ham.compute_energy(spins))\n",
    "\n",
    "print('#######')\n",
    "\n",
    "b = ham.metropolis_sweep(spins,1)\n",
    "\n",
    "print('#######')\n",
    "\n",
    "print(\"after sweep\",b)\n",
    "print(\"E after sweep\",ham.compute_energy(b))"
   ]
  },
  {
   "cell_type": "code",
   "execution_count": 4,
   "id": "f8bb555a-0df2-4b5f-a851-fcc120a0db12",
   "metadata": {},
   "outputs": [
    {
     "data": {
      "text/plain": [
       "(-3.754640000000048, -0.6024, 0.3163116647040039, 0.5253914239999999)"
      ]
     },
     "execution_count": 4,
     "metadata": {},
     "output_type": "execute_result"
    }
   ],
   "source": [
    "montecarlo.montecarlo_metropolis(8,ham,10,10000,1000)"
   ]
  },
  {
   "cell_type": "code",
   "execution_count": 5,
   "id": "42075916-7fe5-4d69-afde-9d0deb5d2ccf",
   "metadata": {},
   "outputs": [],
   "source": [
    "import matplotlib.pyplot as plt"
   ]
  },
  {
   "cell_type": "code",
   "execution_count": 11,
   "id": "b53e7ae1-c60b-4a23-94cd-671995b59ada",
   "metadata": {},
   "outputs": [
    {
     "name": "stdout",
     "output_type": "stream",
     "text": [
      "start\n"
     ]
    },
    {
     "data": {
      "text/plain": [
       "[<matplotlib.lines.Line2D at 0x7f62a0a2b190>,\n",
       " <matplotlib.lines.Line2D at 0x7f62a0a2b2e0>,\n",
       " <matplotlib.lines.Line2D at 0x7f62a0a2b2b0>,\n",
       " <matplotlib.lines.Line2D at 0x7f62a0a2b4f0>]"
      ]
     },
     "execution_count": 11,
     "metadata": {},
     "output_type": "execute_result"
    },
    {
     "data": {
      "image/png": "[encoded data removed]",
      "text/plain": [
       "<Figure size 432x288 with 1 Axes>"
      ]
     },
     "metadata": {
      "needs_background": "light"
     },
     "output_type": "display_data"
    }
   ],
   "source": [
    "temps = []\n",
    "j = 0.1\n",
    "while j <= 10:\n",
    "    temps.append(j)\n",
    "    j += 0.1\n",
    "    \n",
    "eng = []\n",
    "mag = []\n",
    "cap = []\n",
    "sust = []\n",
    "\n",
    "ham2 = montecarlo.Hamiltonian()\n",
    "ham.initialize(-2,1.1,True)\n",
    "print('start')\n",
    "for i in range(len(temps)):\n",
    "    a, b, c, d = montecarlo.montecarlo_metropolis(20,ham,temps[i],10000,1000)\n",
    "    eng.append(a)\n",
    "    mag.append(b)\n",
    "    cap.append(c)\n",
    "    sust.append(d)\n",
    "    \n",
    "plt.plot(temps,eng,'-r',temps,mag,'-b',temps,cap,'-g',temps,sust,'-y')"
   ]
  },
  {
   "cell_type": "code",
   "execution_count": null,
   "id": "171b5657-c56c-46f3-81eb-7bb698e86163",
   "metadata": {},
   "outputs": [],
   "source": []
  }
 ],
 "metadata": {
  "kernelspec": {
   "display_name": "Python 3 (ipykernel)",
   "language": "python",
   "name": "python3"
  },
  "language_info": {
   "codemirror_mode": {
    "name": "ipython",
    "version": 3
   },
   "file_extension": ".py",
   "mimetype": "text/x-python",
   "name": "python",
   "nbconvert_exporter": "python",
   "pygments_lexer": "ipython3",
   "version": "3.9.10"
  }
 },
 "nbformat": 4,
 "nbformat_minor": 5
}
