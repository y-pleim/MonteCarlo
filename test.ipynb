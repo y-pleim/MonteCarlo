{
 "cells": [
  {
   "cell_type": "code",
   "execution_count": 2,
   "id": "7d697d44-5869-4fe3-abdd-d969d0e006e3",
   "metadata": {},
   "outputs": [],
   "source": [
    "import montecarlo\n",
    "import random"
   ]
  },
  {
   "cell_type": "code",
   "execution_count": 3,
   "id": "fcf14cf4-603f-4d06-9d63-93f67d294c82",
   "metadata": {},
   "outputs": [],
   "source": [
    "ham = montecarlo.Hamiltonian()\n",
    "ham.initialize(-2,1.1,True)"
   ]
  },
  {
   "cell_type": "code",
   "execution_count": 3,
   "id": "49a4dc9f-d450-4e06-83df-99e123fd961d",
   "metadata": {},
   "outputs": [
    {
     "name": "stdout",
     "output_type": "stream",
     "text": [
      "before sweep 1, 1, 0, 1, 0, 0, 0, 1.\n",
      "E before sweep 0.0\n",
      "#######\n",
      "#######\n",
      "after sweep 0, 1, 0, 1, 0, 1, 0, 1.\n",
      "E after sweep -16.0\n"
     ]
    }
   ],
   "source": [
    "spins = montecarlo.SpinConfiguration()\n",
    "spins.initialize([1,1,0,1,0,0,0,1])\n",
    "random.seed(2)\n",
    "\n",
    "print(\"before sweep\",spins)\n",
    "print(\"E before sweep\", ham.compute_energy(spins))\n",
    "\n",
    "print('#######')\n",
    "\n",
    "b = ham.metropolis_sweep(spins,1)\n",
    "\n",
    "print('#######')\n",
    "\n",
    "print(\"after sweep\",b)\n",
    "print(\"E after sweep\",ham.compute_energy(b))"
   ]
  },
  {
   "cell_type": "code",
   "execution_count": 7,
   "id": "f8bb555a-0df2-4b5f-a851-fcc120a0db12",
   "metadata": {},
   "outputs": [
    {
     "data": {
      "text/plain": [
       "(-3.578999999999998, -0.57, 0.378371989999999, 0.6239100000000001)"
      ]
     },
     "execution_count": 7,
     "metadata": {},
     "output_type": "execute_result"
    }
   ],
   "source": [
    "random.seed(2)\n",
    "montecarlo.montecarlo_metropolis(8,ham,10,1000,100)"
   ]
  },
  {
   "cell_type": "code",
   "execution_count": 5,
   "id": "42075916-7fe5-4d69-afde-9d0deb5d2ccf",
   "metadata": {},
   "outputs": [],
   "source": [
    "import matplotlib.pyplot as plt"
   ]
  },
  {
   "cell_type": "code",
   "execution_count": 6,
   "id": "b53e7ae1-c60b-4a23-94cd-671995b59ada",
   "metadata": {},
   "outputs": [
    {
     "name": "stdout",
     "output_type": "stream",
     "text": [
      "start\n"
     ]
    },
    {
     "name": "stderr",
     "output_type": "stream",
     "text": [
      "\n",
      "KeyboardInterrupt\n",
      "\n"
     ]
    }
   ],
   "source": [
    "temps = []\n",
    "j = 0.1\n",
    "while j <= 10:\n",
    "    temps.append(j)\n",
    "    j += 0.1\n",
    "    \n",
    "energies = []\n",
    "magnetizations = []\n",
    "heat_caps = []\n",
    "mag_susceptibilities = []\n",
    "\n",
    "ham = montecarlo.Hamiltonian()\n",
    "ham.initialize(-1,.1,True)\n",
    "\n",
    "for i in range(len(temps)):\n",
    "    E_i, M_i, HC_i, MS_i = montecarlo.montecarlo_metropolis(20,ham,temps[i],10000,1000)\n",
    "    energies.append(E_i)\n",
    "    magnetizations.append(M_i)\n",
    "    heat_caps.append(HC_i)\n",
    "    mag_susceptibilities.append(MS_i)\n",
    "    \n",
    "plt.plot(temps,energies,'-r',temps,magnetizations,'-b',temps,heat_caps,'-g',temps,mag_susceptibilities,'-y')\n",
    "plt.legend([\"Average Energy\", \"Average Magnetization\", \"Heat Capacity\", \"Mag Susceptibility\"],loc='best')\n",
    "plt.xlabel(\"Temperature (K)\")\n",
    "plt.title(\"Thermal Quantities vs. Temperature\")"
   ]
  },
  {
   "cell_type": "code",
   "execution_count": null,
   "id": "171b5657-c56c-46f3-81eb-7bb698e86163",
   "metadata": {},
   "outputs": [],
   "source": [
    "temps = []\n",
    "j = 0.1\n",
    "while j <= 10:\n",
    "    temps.append(j)\n",
    "    j += 0.1\n",
    "    \n",
    "eng = []\n",
    "mag = []\n",
    "cap = []\n",
    "sust = []\n",
    "\n",
    "ham2 = montecarlo.Hamiltonian()\n",
    "ham.initialize(-1,.1,True)\n",
    "print('start')\n",
    "for i in range(len(temps)):\n",
    "    a, b, c, d = montecarlo.montecarlo_metropolis(8,ham,temps[i],10000,1000)\n",
    "    eng.append(a)\n",
    "    mag.append(b)\n",
    "    cap.append(c)\n",
    "    sust.append(d)\n",
    "    \n",
    "plt.plot(temps,eng,'-r',temps,mag,'-b',temps,cap,'-g',temps,sust,'-y')"
   ]
  },
  {
   "cell_type": "code",
   "execution_count": null,
   "id": "f6908dfb-7aa0-4ef6-bddf-ec7ee202c205",
   "metadata": {},
   "outputs": [],
   "source": [
    "import montecarlo\n",
    "import numpy as np\n",
    "import matplotlib.pyplot as plt\n",
    "\n",
    "# Create spin configuration system with N = 8 spins\n",
    "spin_system = montecarlo.SpinConfigurationSystem()\n",
    "spin_system.initialize(8)\n",
    "\n",
    "# Create Hamiltonian\n",
    "ham = montecarlo.Hamiltonian()\n",
    "ham.initialize(-1,.1,True)\n",
    "\n",
    "# Generate lists to be graphed\n",
    "temperatures, energies, magnetizations, heat_caps, mag_suscept = ham.generate_thermal_quantities(spin_system,0.1,10,0.1)\n",
    "\n",
    "# Creates plot\n",
    "plt.plot(\n",
    " temperatures, energies, 'r-',\n",
    " temperatures, magnetizations, 'b-',\n",
    " temperatures, heat_caps, 'g-',\n",
    " temperatures, mag_suscept, 'y-'\n",
    ")\n",
    "plt.legend([\"Average Energy\", \"Average Magnetization\", \"Heat Capacity\", \"Mag Susceptibility\"],loc='best')\n",
    "plt.xlabel(\"Temperature (K)\")\n",
    "plt.title(\"Thermal Quantities vs. Temperature\")"
   ]
  },
  {
   "cell_type": "code",
   "execution_count": null,
   "id": "55054c73-c2e6-488c-b624-b2ca524870d6",
   "metadata": {},
   "outputs": [],
   "source": []
  }
 ],
 "metadata": {
  "kernelspec": {
   "display_name": "Python 3 (ipykernel)",
   "language": "python",
   "name": "python3"
  },
  "language_info": {
   "codemirror_mode": {
    "name": "ipython",
    "version": 3
   },
   "file_extension": ".py",
   "mimetype": "text/x-python",
   "name": "python",
   "nbconvert_exporter": "python",
   "pygments_lexer": "ipython3",
   "version": "3.9.10"
  }
 },
 "nbformat": 4,
 "nbformat_minor": 5
}
